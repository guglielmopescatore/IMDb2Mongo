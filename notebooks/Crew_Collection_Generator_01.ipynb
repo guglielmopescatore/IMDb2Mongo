{
 "cells": [
  {
   "cell_type": "code",
   "execution_count": 1,
   "id": "6cf60e4f",
   "metadata": {},
   "outputs": [],
   "source": [
    "import pymongo\n",
    "import json\n",
    "import dns"
   ]
  },
  {
   "cell_type": "code",
   "execution_count": 2,
   "id": "3575e0e3",
   "metadata": {},
   "outputs": [],
   "source": [
    "def aggregation(field):\n",
    "    #Inserire qui la stringa di connessione a MongoDB con il proprio nome utente e password\n",
    "    client = pymongo.MongoClient('<Atlas connection string>')\n",
    "    #Indicare qui il nome del database e della collection generati da IMDb2Mongo\n",
    "    result = client['<Database>']['<Collection>'].aggregate([\n",
    "    {\n",
    "        '$match': {\n",
    "            f'{field}': {\n",
    "                '$exists': True, \n",
    "                '$ne': []\n",
    "            }\n",
    "        }\n",
    "    }, {\n",
    "        '$project': {\n",
    "            '_id': 0, \n",
    "            f'{field}': 1, \n",
    "            'year': 1\n",
    "        }\n",
    "    }, {\n",
    "        '$unwind': {\n",
    "            'path': f'${field}'\n",
    "        }\n",
    "    }, {\n",
    "        '$addFields':{\n",
    "        f\"{field}.code\": f'${field}._id',\n",
    "        f\"{field}.role\": f'{field}',\n",
    "        f\"{field}.year\": '$year'\n",
    "    }\n",
    "    }, {\n",
    "        '$replaceRoot': {\n",
    "            'newRoot': f'${field}'\n",
    "        }\n",
    "    },{\n",
    "        '$project': {\n",
    "            '_id': 0\n",
    "        }\n",
    "    },{\n",
    "        '$merge': {\n",
    "# Inserire qui il nome della Crew Collection che verrà salvata su MongoDB\n",
    "            'into':'<Crew Collection Name>'\n",
    "        }\n",
    "    }\n",
    "]) "
   ]
  },
  {
   "cell_type": "code",
   "execution_count": 3,
   "id": "58ccf036",
   "metadata": {},
   "outputs": [],
   "source": [
    "def main():\n",
    "    # I fields vanno controllati e eventualmente aggiunti i nuovi\n",
    "    fields = ['art department', 'art direction', 'assistant director', 'camera and electrical department', 'cast', 'casting department', 'casting director', 'cinematographer', 'composer', 'costume department', 'costume designer', 'creator', 'director', 'editor', 'editorial department', 'location management', 'make up', 'miscellaneous crew', 'music department', 'producer', 'production design', 'production manager', 'script department', 'set decoration', 'sound crew', 'special effects', 'stunt performer', 'visual effects', 'writer']\n",
    "    for field in fields:\n",
    "        aggregation(field)"
   ]
  },
  {
   "cell_type": "code",
   "execution_count": 4,
   "id": "804af907",
   "metadata": {},
   "outputs": [],
   "source": [
    "main()"
   ]
  }
 ],
 "metadata": {
  "kernelspec": {
   "display_name": "Python 3",
   "language": "python",
   "name": "python3"
  },
  "language_info": {
   "codemirror_mode": {
    "name": "ipython",
    "version": 3
   },
   "file_extension": ".py",
   "mimetype": "text/x-python",
   "name": "python",
   "nbconvert_exporter": "python",
   "pygments_lexer": "ipython3",
   "version": "3.8.10"
  }
 },
 "nbformat": 4,
 "nbformat_minor": 5
}
