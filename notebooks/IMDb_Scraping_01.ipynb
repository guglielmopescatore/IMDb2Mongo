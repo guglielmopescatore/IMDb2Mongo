{
 "cells": [
  {
   "cell_type": "code",
   "execution_count": null,
   "id": "954e0e8d",
   "metadata": {},
   "outputs": [],
   "source": [
    "import pandas as pd\n",
    "from requests import get\n",
    "from bs4 import BeautifulSoup\n",
    "import re\n",
    "import math\n",
    "from time import time, sleep\n",
    "from random import randint\n",
    "from IPython.core.display import clear_output\n",
    "from warnings import warn"
   ]
  },
  {
   "cell_type": "code",
   "execution_count": null,
   "id": "c55494ef",
   "metadata": {},
   "outputs": [],
   "source": [
    "url = input('Inserisci la url di ricerca:')\n",
    "response = get(url)\n",
    "html_soup = BeautifulSoup(response.text, 'html.parser')\n",
    "type(html_soup)"
   ]
  },
  {
   "cell_type": "code",
   "execution_count": null,
   "id": "8b72dbc4",
   "metadata": {
    "scrolled": false
   },
   "outputs": [],
   "source": [
    "num_films_text = html_soup.find_all('div', class_ = 'desc')\n",
    "#print \n",
    "num_films=re.search('of (\\d.+) titles',str(num_films_text[0]))\n",
    "if num_films == None:\n",
    "    num_films=re.search('(\\d.+) titles',str(num_films_text[0])).group(1)\n",
    "else:\n",
    "    num_films=re.search('of (\\d.+) titles',str(num_films_text[0])).group(1)\n",
    "num_films=int(num_films.replace(',', ''))\n",
    "print(num_films)"
   ]
  },
  {
   "cell_type": "code",
   "execution_count": null,
   "id": "af01f2aa",
   "metadata": {},
   "outputs": [],
   "source": [
    "num_pages = math.ceil(num_films/50)\n",
    "print(num_pages)"
   ]
  },
  {
   "cell_type": "code",
   "execution_count": null,
   "id": "94c6aa58",
   "metadata": {},
   "outputs": [],
   "source": [
    "ids = []\n",
    "start_time = time()\n",
    "requests = 0"
   ]
  },
  {
   "cell_type": "code",
   "execution_count": null,
   "id": "311e8ade",
   "metadata": {},
   "outputs": [],
   "source": [
    "# For every page in the interval`\n",
    "for page in range(0,num_pages):    \n",
    "    # Make a get request\n",
    "    pg = page*50+1\n",
    "    url = f\"{url}\"+\"&start=\"+str(pg)+\"&ref_=adv_nxt\"    \n",
    "    response = get(url)\n",
    "\n",
    "    # Pause the loop\n",
    "    sleep(randint(8,15))  \n",
    "\n",
    "    # Monitor the requests\n",
    "    requests += 1\n",
    "    sleep(randint(1,3))\n",
    "    elapsed_time = time() - start_time\n",
    "    print('Request: {}; Frequency: {} requests/s'.format(requests, requests/elapsed_time))\n",
    "    clear_output(wait = True) \n",
    "\n",
    "    # Throw a warning for non-200 status codes\n",
    "    if response.status_code != 200:\n",
    "        warn('Request: {}; Status code: {}'.format(requests, response.status_code))   \n",
    "\n",
    "    # Break the loop if the number of requests is greater than expected\n",
    "#     if requests > num_pages:\n",
    "#         warn('Number of requests was greater than expected.')  \n",
    "#         break\n",
    "\n",
    "    # Parse the content of the request with BeautifulSoup\n",
    "    page_html = BeautifulSoup(response.text, 'html.parser')\n",
    "\n",
    "    # Select all the 50 movie containers from a single page\n",
    "    movie_containers = page_html.find_all('div', class_ = 'lister-item mode-simple')\n",
    "\n",
    "    # Scrape the ID \n",
    "    for i in range(len(movie_containers)):\n",
    "        id = re.search('tt(\\d+)',str(movie_containers[i].a)).group(0)\n",
    "        ids.append(id)"
   ]
  },
  {
   "cell_type": "code",
   "execution_count": null,
   "id": "6e78004c",
   "metadata": {},
   "outputs": [],
   "source": [
    "filmography = pd.Series(ids)\n",
    "filmography.to_csv(r'filmography.csv', header=False, index=False)"
   ]
  }
 ],
 "metadata": {
  "kernelspec": {
   "display_name": "Python 3",
   "language": "python",
   "name": "python3"
  },
  "language_info": {
   "codemirror_mode": {
    "name": "ipython",
    "version": 3
   },
   "file_extension": ".py",
   "mimetype": "text/x-python",
   "name": "python",
   "nbconvert_exporter": "python",
   "pygments_lexer": "ipython3",
   "version": "3.8.10"
  }
 },
 "nbformat": 4,
 "nbformat_minor": 5
}
