{
 "cells": [
  {
   "cell_type": "code",
   "execution_count": 1,
   "id": "f58d6dfd",
   "metadata": {},
   "outputs": [],
   "source": [
    "import pandas as pd\n",
    "import PySimpleGUI as sg\n",
    "import dns\n",
    "import copy\n",
    "import json\n",
    "import dask.dataframe as dd\n",
    "from dask.diagnostics import ProgressBar\n",
    "pbar = ProgressBar()\n",
    "pbar.register()\n",
    "import pymongo\n",
    "import multiprocessing\n",
    "import warnings\n",
    "warnings.filterwarnings(\"ignore\")\n",
    "import imdb\n",
    "from imdb import IMDb, IMDbError\n",
    "ia = IMDb()\n",
    "CPU_COUNT = multiprocessing.cpu_count()"
   ]
  },
  {
   "cell_type": "code",
   "execution_count": 2,
   "id": "c5edd9fe",
   "metadata": {
    "pycharm": {
     "name": "#%%\n"
    }
   },
   "outputs": [],
   "source": [
    "def read_table():\n",
    "\n",
    "    #sg.set_options(auto_size_buttons=True)\n",
    "    filename = sg.popup_get_file(\n",
    "        'Dataset to read',\n",
    "        #no_titlebar=True,\n",
    "        #grab_anywhere=True,\n",
    "        file_types=((\"CSV Files\", \"*.csv\"),),\n",
    "        )\n",
    "\n",
    "    if not filename:\n",
    "        sg.popup(\"No filename supplied, exit\")\n",
    "        raise SystemExit(\"Cancelling: no filename supplied\")\n",
    "\n",
    "    return filename"
   ]
  },
  {
   "cell_type": "code",
   "execution_count": 3,
   "id": "19dfe0ca",
   "metadata": {},
   "outputs": [],
   "source": [
    "def get_infoset():\n",
    "    infolist = ia.get_movie_infoset()\n",
    "    unwanted_infosets = {'main', 'news', 'soundtrack'}\n",
    "    infolist = [ele for ele in infolist if ele not in unwanted_infosets]\n",
    "    #define layout\n",
    "    layout=[[sg.Text('The default infoset is main \\n You can add more infosets',size=(30, 2), justification='left')],\n",
    "        [sg.Listbox(infolist, default_values='', select_mode='extended', key='info', size=(30, 8))],\n",
    "        [sg.Button('SAVE'), sg.Button('CANCEL')]]\n",
    "    \n",
    "    #Define Window\n",
    "    win =sg.Window('Additional infosets',layout)\n",
    "    \n",
    "    #Read  values entered by user\n",
    "    e,v=win.read()\n",
    "    strv = \", \".join(v['info'])\n",
    "    #close first window\n",
    "    win.close()\n",
    "    #display string in a popup         \n",
    "    sg.popup('Chosen infosets:',      \n",
    "                'main, '+ strv )\n",
    "    return v['info']"
   ]
  },
  {
   "cell_type": "code",
   "execution_count": 4,
   "id": "8de97449",
   "metadata": {
    "pycharm": {
     "name": "#%%\n"
    }
   },
   "outputs": [],
   "source": [
    "def get_database( ):\n",
    "    # Very basic window.  Return values using auto numbered keys\n",
    "\n",
    "    layout = [\n",
    "        [sg.Text('Please enter Database and Collection names')],\n",
    "        [sg.Text('Connection string', size=(15, 1)), sg.InputText()],\n",
    "        [sg.Text('Database', size=(15, 1)), sg.InputText()],\n",
    "        [sg.Text('collection', size=(15, 1)), sg.InputText()],\n",
    "        [sg.Submit(), sg.Cancel()]\n",
    "    ]\n",
    "\n",
    "    window = sg.Window('Database entry window', layout)\n",
    "    event, values = window.read()\n",
    "    window.close()\n",
    "    return values"
   ]
  },
  {
   "cell_type": "code",
   "execution_count": 5,
   "id": "5f093b03",
   "metadata": {},
   "outputs": [],
   "source": [
    "#reads the list of titles from the file and deletes the first two letters of the code\n",
    "def get_data(filename):\n",
    "    try:\n",
    "        titles = pd.read_csv(filename, usecols=[0], names=['_id'])\n",
    "        titles['_id'] = titles['_id'].str.slice_replace(start=0, stop=2, repl='')\n",
    "    except:\n",
    "        sg.popup(\"The dataset is incorrect, exit\")\n",
    "        raise SystemExit(\"Cancelling: The dataset is incorrect\")\n",
    "    return titles"
   ]
  },
  {
   "cell_type": "code",
   "execution_count": 6,
   "id": "5daf093e",
   "metadata": {},
   "outputs": [],
   "source": [
    "def identify(DataObj):\n",
    "    idoc = {}\n",
    "    tag=''\n",
    "    if isinstance(DataObj, imdb.Person.Person):\n",
    "        tag = 'nm'\n",
    "    elif isinstance(DataObj, imdb.Movie.Movie):\n",
    "        tag = 'tt'\n",
    "    elif isinstance(DataObj, imdb.Company.Company):\n",
    "        tag = 'co'\n",
    "    else:\n",
    "        # insert here exception-handling\n",
    "        pass    \n",
    "    ID = DataObj.getID()\n",
    "    idoc['_id'] = tag+str(ID)\n",
    "    #idoc['id_'] = ID\n",
    "    return idoc"
   ]
  },
  {
   "cell_type": "code",
   "execution_count": 7,
   "id": "6404f87b",
   "metadata": {},
   "outputs": [],
   "source": [
    "def convert(DataObj):\n",
    "    document = {}\n",
    "\n",
    "    classes = (\n",
    "        imdb.Person.Person,\n",
    "        imdb.Movie.Movie,\n",
    "        imdb.Company.Company)\n",
    "\n",
    "    for key in DataObj.keys():\n",
    "\n",
    "        if type(DataObj[key]) is dict:\n",
    "            document[key] = convert(DataObj[key])\n",
    "            \n",
    "\n",
    "        elif type(DataObj[key]) is list:\n",
    "            document.update(identify(DataObj))\n",
    "            values = DataObj[key]\n",
    "\n",
    "            if len(values) == 0:\n",
    "                continue\n",
    "\n",
    "            sample = values[0]\n",
    "\n",
    "            if type(sample) in classes:\n",
    "                val = [x.data for x in values]\n",
    "                for x in val:\n",
    "                    n = val.index(x)\n",
    "                    x.update(identify(values[n]))\n",
    "                    document[key] = val\n",
    "\n",
    "            elif len(values) == 1 and type(values[0]) not in classes:\n",
    "                document[key] = values[0]\n",
    "\n",
    "            elif len(values) == 1 and type(values[0]) in classes:\n",
    "                data = values[0].data\n",
    "                data.update(identify(values[0]))\n",
    "                document[key] = [data]\n",
    "\n",
    "            elif type(sample) in (str, bytes):\n",
    "                document[key] = DataObj[key]\n",
    "\n",
    "        elif type(DataObj[key]) in classes:\n",
    "            (DataObj[key]).data.update(identify(DataObj[key]))\n",
    "            document[key] = convert((DataObj[key]).data)\n",
    "\n",
    "        else:\n",
    "            document[key] = DataObj[key]\n",
    "\n",
    "    return document"
   ]
  },
  {
   "cell_type": "code",
   "execution_count": 8,
   "id": "4778468e",
   "metadata": {},
   "outputs": [],
   "source": [
    "def append_error_message(error_message):\n",
    "    \"\"\"Append error message as a new line at the end of file\"\"\"\n",
    "    # Open the file in append & read mode ('a+')\n",
    "    with open('errors.txt', \"a+\") as file_object:\n",
    "        # Move read cursor to the start of file.\n",
    "        file_object.seek(0)\n",
    "        # If file is not empty then append '\\n'\n",
    "        data = file_object.read(100)\n",
    "        if len(data) > 0:\n",
    "            file_object.write(\"\\n\")\n",
    "        # Append text at the end of file\n",
    "        file_object.write(error_message)"
   ]
  },
  {
   "cell_type": "code",
   "execution_count": 9,
   "id": "2c4ec8fb",
   "metadata": {},
   "outputs": [],
   "source": [
    "#Download the filmography file starting from the title identifier (title) \n",
    "#and attributes it (in json format) to the variable movie\n",
    "def get_main(title, infoset):\n",
    "    \n",
    "    try:\n",
    "        mv = ia.get_movie(title, info = infoset)\n",
    "#     except (KeyError):\n",
    "#         new_infoset = copy.copy(infoset)\n",
    "#         new_infoset.remove('episodes')\n",
    "#         mv = ia.get_movie(title, info = new_infoset)\n",
    "    except IMDbError as e:\n",
    "        append_error_message(str(e))\n",
    "        movie = None\n",
    "        return movie\n",
    "    movie = json.dumps(convert(mv))\n",
    "    return movie"
   ]
  },
  {
   "cell_type": "code",
   "execution_count": 10,
   "id": "2e721fb5",
   "metadata": {},
   "outputs": [],
   "source": [
    "#applies the previous one for each title identifier contained in the dataframe. \n",
    "#It works in parallel by taking advantage of the available cores.\n",
    "def dask_impl(df, infoset):\n",
    "    # from dask.diagnostics import ProgressBar\n",
    "    # pbar = ProgressBar()\n",
    "    # pbar.register()\n",
    "    return dd.from_pandas(df, npartitions=CPU_COUNT).apply(\n",
    "    lambda row: get_main(\n",
    "        row._id, infoset),\n",
    "    axis=1, \n",
    "    meta=(int)\n",
    "  ).compute()"
   ]
  },
  {
   "cell_type": "code",
   "execution_count": 11,
   "id": "acbfacb9",
   "metadata": {},
   "outputs": [],
   "source": [
    "#Non-parallel function alternative to the previous one\n",
    "def apply_impl(df, infoset):\n",
    "    return df.apply(\n",
    "        lambda row: get_main(\n",
    "        row._id, infoset), axis = 1\n",
    "    )"
   ]
  },
  {
   "cell_type": "code",
   "execution_count": 12,
   "id": "9eadaf24",
   "metadata": {},
   "outputs": [],
   "source": [
    "def connect(values, coll=None):\n",
    "\n",
    "    client = pymongo.MongoClient(values[0])\n",
    "    db = client[str(values[1])]\n",
    "    collection = db[str(values[2])]\n",
    "    return collection"
   ]
  },
  {
   "cell_type": "code",
   "execution_count": 13,
   "id": "a2eb3fd2",
   "metadata": {
    "pycharm": {
     "name": "#%%\n"
    }
   },
   "outputs": [],
   "source": [
    "def to_mongo(mov, values):\n",
    "    collection = connect(values)\n",
    "    pyresponse = json.loads(mov)\n",
    "    collection.insert_one(pyresponse)"
   ]
  },
  {
   "cell_type": "code",
   "execution_count": 14,
   "id": "2a84ea71",
   "metadata": {
    "pycharm": {
     "name": "#%%\n"
    }
   },
   "outputs": [],
   "source": [
    "def app(df, values):\n",
    "    try:\n",
    "        dd.from_pandas(df, npartitions=CPU_COUNT).apply(to_mongo, args=(values,), meta=(int)).compute()\n",
    "    except:\n",
    "        sg.popup(\"Something wrong with the connection, exit\")\n",
    "        raise SystemExit(\"Cancelling: Something wrong with the connection\")"
   ]
  },
  {
   "cell_type": "code",
   "execution_count": 15,
   "id": "c3980b53",
   "metadata": {},
   "outputs": [],
   "source": [
    "def main():\n",
    "    sg.theme('Material1')      # Add some color to the window\n",
    "\n",
    "    filename = read_table()\n",
    "    titles = get_data(filename)\n",
    "    values = get_database()\n",
    "    infoset = get_infoset()\n",
    "    infoset.insert(0, 'main')\n",
    "    \n",
    "    layout = [  [sg.Text('Below you can see the download progress:')],\n",
    "    [sg.Output(size=(60,3), key='-OUTPUT-')]    ]\n",
    "    window = sg.Window('Window Title', layout, finalize = True)\n",
    "    \n",
    "    df = dask_impl(titles, infoset)\n",
    "    window.close()\n",
    "    df.dropna(inplace=True)\n",
    "    app(df, values)\n",
    "    sg.popup(\"Operation completed successfully\")"
   ]
  },
  {
   "cell_type": "code",
   "execution_count": 18,
   "id": "568649ec",
   "metadata": {
    "pycharm": {
     "name": "#%%\n"
    },
    "scrolled": false
   },
   "outputs": [],
   "source": [
    "main()"
   ]
  },
  {
   "cell_type": "code",
   "execution_count": null,
   "id": "181017b7",
   "metadata": {},
   "outputs": [],
   "source": []
  }
 ],
 "metadata": {
  "kernelspec": {
   "display_name": "Python 3",
   "language": "python",
   "name": "python3"
  },
  "language_info": {
   "codemirror_mode": {
    "name": "ipython",
    "version": 3
   },
   "file_extension": ".py",
   "mimetype": "text/x-python",
   "name": "python",
   "nbconvert_exporter": "python",
   "pygments_lexer": "ipython3",
   "version": "3.8.10"
  }
 },
 "nbformat": 4,
 "nbformat_minor": 5
}
